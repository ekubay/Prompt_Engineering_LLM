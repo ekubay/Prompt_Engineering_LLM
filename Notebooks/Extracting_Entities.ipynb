{
 "cells": [
  {
   "cell_type": "markdown",
   "id": "a1f8081a",
   "metadata": {},
   "source": [
    "# Extracting entities given the dataset with help of LLM prompt\n",
    "Entity Extraction with Generative Models\n"
   ]
  },
  {
   "cell_type": "code",
   "execution_count": 1,
   "id": "eb342879",
   "metadata": {},
   "outputs": [],
   "source": [
    "# importing libraries\n",
    "import pandas as pd\n",
    "import matplotlib.pyplot as plt\n",
    "%matplotlib inline "
   ]
  },
  {
   "cell_type": "code",
   "execution_count": 2,
   "id": "acad274b",
   "metadata": {},
   "outputs": [],
   "source": [
    "# reading the data\n",
    "df = pd.read_json('../data/relations_dev.txt')"
   ]
  },
  {
   "cell_type": "code",
   "execution_count": 39,
   "id": "baa387f5",
   "metadata": {
    "scrolled": true
   },
   "outputs": [],
   "source": [
    "#df_nested_list.head()"
   ]
  },
  {
   "cell_type": "code",
   "execution_count": 91,
   "id": "06872cf5",
   "metadata": {},
   "outputs": [],
   "source": [
    "import json\n",
    "# load data using Python JSON module\n",
    "with open('../data/relations_dev.txt','r') as f:\n",
    "    data = json.loads(f.read())\n",
    "# Flatten data\n",
    "df_nested_list2 = pd.json_normalize(data, record_path =['relations'])"
   ]
  },
  {
   "cell_type": "code",
   "execution_count": 19,
   "id": "4fd93638",
   "metadata": {},
   "outputs": [
    {
     "data": {
      "text/html": [
       "<div>\n",
       "<style scoped>\n",
       "    .dataframe tbody tr th:only-of-type {\n",
       "        vertical-align: middle;\n",
       "    }\n",
       "\n",
       "    .dataframe tbody tr th {\n",
       "        vertical-align: top;\n",
       "    }\n",
       "\n",
       "    .dataframe thead th {\n",
       "        text-align: right;\n",
       "    }\n",
       "</style>\n",
       "<table border=\"1\" class=\"dataframe\">\n",
       "  <thead>\n",
       "    <tr style=\"text-align: right;\">\n",
       "      <th></th>\n",
       "      <th>text</th>\n",
       "      <th>start</th>\n",
       "      <th>end</th>\n",
       "      <th>token_start</th>\n",
       "      <th>token_end</th>\n",
       "      <th>entityLabel</th>\n",
       "      <th>child</th>\n",
       "      <th>head</th>\n",
       "      <th>relationLabel</th>\n",
       "    </tr>\n",
       "  </thead>\n",
       "  <tbody>\n",
       "    <tr>\n",
       "      <th>0</th>\n",
       "      <td>Bachelor</td>\n",
       "      <td>0</td>\n",
       "      <td>8</td>\n",
       "      <td>0</td>\n",
       "      <td>0</td>\n",
       "      <td>DIPLOMA</td>\n",
       "      <td>4.0</td>\n",
       "      <td>0.0</td>\n",
       "      <td>DEGREE_IN</td>\n",
       "    </tr>\n",
       "    <tr>\n",
       "      <th>1</th>\n",
       "      <td>Mechanical Engineering</td>\n",
       "      <td>21</td>\n",
       "      <td>43</td>\n",
       "      <td>4</td>\n",
       "      <td>5</td>\n",
       "      <td>DIPLOMA_MAJOR</td>\n",
       "      <td>7.0</td>\n",
       "      <td>0.0</td>\n",
       "      <td>DEGREE_IN</td>\n",
       "    </tr>\n",
       "    <tr>\n",
       "      <th>2</th>\n",
       "      <td>Physical Science</td>\n",
       "      <td>47</td>\n",
       "      <td>63</td>\n",
       "      <td>7</td>\n",
       "      <td>8</td>\n",
       "      <td>DIPLOMA_MAJOR</td>\n",
       "      <td>15.0</td>\n",
       "      <td>9.0</td>\n",
       "      <td>EXPERIENCE_IN</td>\n",
       "    </tr>\n",
       "    <tr>\n",
       "      <th>3</th>\n",
       "      <td>3+ years</td>\n",
       "      <td>64</td>\n",
       "      <td>72</td>\n",
       "      <td>9</td>\n",
       "      <td>11</td>\n",
       "      <td>EXPERIENCE</td>\n",
       "      <td>18.0</td>\n",
       "      <td>9.0</td>\n",
       "      <td>EXPERIENCE_IN</td>\n",
       "    </tr>\n",
       "    <tr>\n",
       "      <th>4</th>\n",
       "      <td>developing</td>\n",
       "      <td>89</td>\n",
       "      <td>99</td>\n",
       "      <td>15</td>\n",
       "      <td>15</td>\n",
       "      <td>SKILLS</td>\n",
       "      <td>22.0</td>\n",
       "      <td>9.0</td>\n",
       "      <td>EXPERIENCE_IN</td>\n",
       "    </tr>\n",
       "  </tbody>\n",
       "</table>\n",
       "</div>"
      ],
      "text/plain": [
       "                     text  start  end  token_start  token_end    entityLabel  \\\n",
       "0                Bachelor      0    8            0          0        DIPLOMA   \n",
       "1  Mechanical Engineering     21   43            4          5  DIPLOMA_MAJOR   \n",
       "2        Physical Science     47   63            7          8  DIPLOMA_MAJOR   \n",
       "3                3+ years     64   72            9         11     EXPERIENCE   \n",
       "4              developing     89   99           15         15         SKILLS   \n",
       "\n",
       "   child  head  relationLabel  \n",
       "0    4.0   0.0      DEGREE_IN  \n",
       "1    7.0   0.0      DEGREE_IN  \n",
       "2   15.0   9.0  EXPERIENCE_IN  \n",
       "3   18.0   9.0  EXPERIENCE_IN  \n",
       "4   22.0   9.0  EXPERIENCE_IN  "
      ]
     },
     "execution_count": 19,
     "metadata": {},
     "output_type": "execute_result"
    }
   ],
   "source": [
    "concatenated.head()"
   ]
  },
  {
   "cell_type": "code",
   "execution_count": 25,
   "id": "a520640e",
   "metadata": {},
   "outputs": [],
   "source": [
    "#clean_df = pd.concat([df1, concatenated], axis=\"columns\")"
   ]
  },
  {
   "cell_type": "code",
   "execution_count": 41,
   "id": "d93dfadb",
   "metadata": {
    "scrolled": true
   },
   "outputs": [],
   "source": [
    "#clean_df.head()"
   ]
  },
  {
   "cell_type": "code",
   "execution_count": 28,
   "id": "e5777801",
   "metadata": {},
   "outputs": [
    {
     "data": {
      "text/plain": [
       "(145, 10)"
      ]
     },
     "execution_count": 28,
     "metadata": {},
     "output_type": "execute_result"
    }
   ],
   "source": [
    "clean_df.shape"
   ]
  },
  {
   "cell_type": "code",
   "execution_count": 29,
   "id": "df70e95d",
   "metadata": {},
   "outputs": [],
   "source": [
    "#clean_df.to_csv('../data/relation.csv')"
   ]
  },
  {
   "cell_type": "code",
   "execution_count": 40,
   "id": "0aa33fb0",
   "metadata": {
    "scrolled": true
   },
   "outputs": [],
   "source": [
    "#clean_df.head()"
   ]
  },
  {
   "cell_type": "code",
   "execution_count": 32,
   "id": "896b344c",
   "metadata": {},
   "outputs": [],
   "source": [
    "# installing the libe\n",
    "!pip install cohere requests tqdm"
   ]
  },
  {
   "cell_type": "code",
   "execution_count": 92,
   "id": "c037e4fb",
   "metadata": {},
   "outputs": [],
   "source": [
    "import cohere\n",
    "import pandas as pd\n",
    "import requests\n",
    "import datetime\n",
    "from tqdm import tqdm\n",
    "pd.set_option('display.max_colwidth', None)"
   ]
  },
  {
   "cell_type": "code",
   "execution_count": 93,
   "id": "831f2173",
   "metadata": {},
   "outputs": [],
   "source": [
    "def get_post_titles():\n",
    "    data = pd.read_json('../data/relations_dev.txt')\n",
    "    return data['document']"
   ]
  },
  {
   "cell_type": "code",
   "execution_count": 42,
   "id": "f86ff4fa",
   "metadata": {},
   "outputs": [],
   "source": [
    "# API\n",
    "my_API = \"nMqcDQ2gC0vxFVwIDvUINps6zJTvYZOskiz5dhq1\""
   ]
  },
  {
   "cell_type": "code",
   "execution_count": 94,
   "id": "138cb806",
   "metadata": {},
   "outputs": [],
   "source": [
    "# Create and retrieve a Cohere API key from os.cohere.ai\n",
    "co = cohere.Client(my_API)"
   ]
  },
  {
   "cell_type": "markdown",
   "id": "9a12a1d6",
   "metadata": {},
   "source": [
    "## Preparing examples for the prompt\n",
    "In our prompt, we'll present the model with examples for the type of output we're after. We basically get a set of subreddit article titles, and label them ourselves. The label here is the name of the movie mentioned in the title (and \"none\" if no movie is mentioned)."
   ]
  },
  {
   "cell_type": "code",
   "execution_count": 115,
   "id": "d6c6b401",
   "metadata": {},
   "outputs": [],
   "source": [
    " # job description\n",
    "job_examples =[(\"text\", \"Bachelor\",\n",
    "        \"start\", '0',\n",
    "        \"end\", '8',\n",
    "        \"token_start\", '0',\n",
    "        \"token_end\", '0',\n",
    "        \"entityLabel\", \"DIPLOMA\"),  \n",
    "        (\"text\", \"Mechanical Engineering\",\n",
    "        \"start\", '21',\n",
    "        \"end\", '43',\n",
    "        \"token_start\", '4',\n",
    "        \"token_end\", '5',\n",
    "        \"entityLabel\", \"DIPLOMA_MAJOR\"), \n",
    "        ( \"text\", \"10+ years\",\n",
    "        \"start\", '0',\n",
    "        \"end\", '9',\n",
    "        \"token_start\", '0',\n",
    "        \"token_end\", '2',\n",
    "        \"entityLabel\", \"EXPERIENCE\"),\n",
    "        (\"text\", \"8+ years\",\n",
    "        \"start\", '0',\n",
    "        \"end\", '8',\n",
    "        \"token_start\", '0',\n",
    "        \"token_end\", '2',\n",
    "        \"entityLabel\", \"EXPERIENCE\")]"
   ]
  },
  {
   "cell_type": "markdown",
   "id": "dee49b7f",
   "metadata": {},
   "source": [
    "### Creating the extraction prompt"
   ]
  },
  {
   "cell_type": "code",
   "execution_count": 111,
   "id": "b2ea00c2",
   "metadata": {},
   "outputs": [],
   "source": [
    "class cohereExtractor():\n",
    "    def __init__(self, examples, example_labels, labels, task_desciption, example_prompt):\n",
    "        self.examples = examples\n",
    "        self.example_labels = example_labels\n",
    "        self.labels = labels\n",
    "        self.task_desciption = task_desciption\n",
    "        self.example_prompt = example_prompt\n",
    "\n",
    "    def make_prompt(self, example):\n",
    "        examples = self.examples + [example]\n",
    "        labels = self.example_labels + [\"\"]\n",
    "        return (self.task_desciption +\n",
    "                \"\\n---\\n\".join( [examples[i] + \"\\n\" +\n",
    "                                self.example_prompt + \n",
    "                                 labels[i] for i in range(len(examples))]))\n",
    "\n",
    "    def extract(self, example):\n",
    "        extraction = co.generate(\n",
    "          model='large',\n",
    "          prompt=self.make_prompt(example),\n",
    "          max_tokens=10,\n",
    "          temperature=0.1,\n",
    "          stop_sequences=[\"\\n\"])\n",
    "        return(extraction.generations[0].text[:-1])\n",
    "\n",
    "\n",
    "cohereJobExtractor = cohereExtractor([e[1] for e in job_examples], \n",
    "                                       [e[0] for e in job_examples], [],\n",
    "                                       \"\", \n",
    "                                       \"the entites:\")\n",
    "\n",
    "# Uncomment to inspect the full prompt:\n",
    "# print(cohereMovieExtractor.make_prompt('<input text here>'))"
   ]
  },
  {
   "cell_type": "code",
   "execution_count": 114,
   "id": "babced77",
   "metadata": {},
   "outputs": [
    {
     "name": "stdout",
     "output_type": "stream",
     "text": [
      "Bachelor\n",
      "the entites:text\n",
      "---\n",
      "Mechanical Engineering\n",
      "the entites:text\n",
      "---\n",
      "10+ years\n",
      "the entites:text\n",
      "---\n",
      "8+ years\n",
      "the entites:text\n",
      "---\n",
      "starts\n",
      "the entites:\n"
     ]
    }
   ],
   "source": [
    "# This is what the prompt looks like:\n",
    "print(cohereJobExtractor.make_prompt(\"text\"))"
   ]
  },
  {
   "cell_type": "markdown",
   "id": "25ea4aaa",
   "metadata": {},
   "source": [
    "## Getting the data\n",
    "Make the API call to get the jobs."
   ]
  },
  {
   "cell_type": "code",
   "execution_count": 90,
   "id": "3f37c57b",
   "metadata": {},
   "outputs": [
    {
     "ename": "TypeError",
     "evalue": "get_post_titles() got an unexpected keyword argument 'size'",
     "output_type": "error",
     "traceback": [
      "\u001b[1;31m---------------------------------------------------------------------------\u001b[0m",
      "\u001b[1;31mTypeError\u001b[0m                                 Traceback (most recent call last)",
      "\u001b[1;32m~\\AppData\\Local\\Temp/ipykernel_25668/1337495035.py\u001b[0m in \u001b[0;36m<module>\u001b[1;34m\u001b[0m\n\u001b[0;32m      1\u001b[0m \u001b[0mnum_posts\u001b[0m \u001b[1;33m=\u001b[0m \u001b[1;36m10\u001b[0m\u001b[1;33m\u001b[0m\u001b[1;33m\u001b[0m\u001b[0m\n\u001b[1;32m----> 2\u001b[1;33m job_list = get_post_titles(size = num_posts, \n\u001b[0m\u001b[0;32m      3\u001b[0m       \u001b[0mafter\u001b[0m\u001b[1;33m=\u001b[0m\u001b[0mstr\u001b[0m\u001b[1;33m(\u001b[0m\u001b[0mint\u001b[0m\u001b[1;33m(\u001b[0m\u001b[0mdatetime\u001b[0m\u001b[1;33m.\u001b[0m\u001b[0mdatetime\u001b[0m\u001b[1;33m(\u001b[0m\u001b[1;36m2021\u001b[0m\u001b[1;33m,\u001b[0m\u001b[1;36m1\u001b[0m\u001b[1;33m,\u001b[0m\u001b[1;36m1\u001b[0m\u001b[1;33m,\u001b[0m\u001b[1;36m0\u001b[0m\u001b[1;33m,\u001b[0m\u001b[1;36m0\u001b[0m\u001b[1;33m)\u001b[0m\u001b[1;33m.\u001b[0m\u001b[0mtimestamp\u001b[0m\u001b[1;33m(\u001b[0m\u001b[1;33m)\u001b[0m\u001b[1;33m)\u001b[0m\u001b[1;33m)\u001b[0m\u001b[1;33m,\u001b[0m\u001b[1;33m\u001b[0m\u001b[1;33m\u001b[0m\u001b[0m\n\u001b[0;32m      4\u001b[0m       \u001b[0mbefore\u001b[0m\u001b[1;33m=\u001b[0m\u001b[0mstr\u001b[0m\u001b[1;33m(\u001b[0m\u001b[0mint\u001b[0m\u001b[1;33m(\u001b[0m\u001b[0mdatetime\u001b[0m\u001b[1;33m.\u001b[0m\u001b[0mdatetime\u001b[0m\u001b[1;33m(\u001b[0m\u001b[1;36m2022\u001b[0m\u001b[1;33m,\u001b[0m\u001b[1;36m1\u001b[0m\u001b[1;33m,\u001b[0m\u001b[1;36m1\u001b[0m\u001b[1;33m,\u001b[0m\u001b[1;36m0\u001b[0m\u001b[1;33m,\u001b[0m\u001b[1;36m0\u001b[0m\u001b[1;33m)\u001b[0m\u001b[1;33m.\u001b[0m\u001b[0mtimestamp\u001b[0m\u001b[1;33m(\u001b[0m\u001b[1;33m)\u001b[0m\u001b[1;33m)\u001b[0m\u001b[1;33m)\u001b[0m\u001b[1;33m,\u001b[0m\u001b[1;33m\u001b[0m\u001b[1;33m\u001b[0m\u001b[0m\n\u001b[0;32m      5\u001b[0m       \u001b[0msubreddit\u001b[0m\u001b[1;33m=\u001b[0m\u001b[1;34m\"jobs\"\u001b[0m\u001b[1;33m,\u001b[0m\u001b[1;33m\u001b[0m\u001b[1;33m\u001b[0m\u001b[0m\n",
      "\u001b[1;31mTypeError\u001b[0m: get_post_titles() got an unexpected keyword argument 'size'"
     ]
    }
   ],
   "source": [
    "num_posts = 10\n",
    "job_list = get_post_titles(size = num_posts, \n",
    "      after=str(int(datetime.datetime(2021,1,1,0,0).timestamp())), \n",
    "      before=str(int(datetime.datetime(2022,1,1,0,0).timestamp())), \n",
    "      subreddit=\"jobs\", \n",
    "      sort_type=\"score\", \n",
    "      sort=\"desc\")\n",
    "\n",
    "# Show the list\n",
    "job_list"
   ]
  },
  {
   "cell_type": "markdown",
   "id": "12a51df0",
   "metadata": {},
   "source": [
    "## Running the model\n",
    "And now we loop over the posts and process each one of them with our extractor."
   ]
  },
  {
   "cell_type": "code",
   "execution_count": 79,
   "id": "62b2dfb9",
   "metadata": {},
   "outputs": [
    {
     "name": "stderr",
     "output_type": "stream",
     "text": [
      "100%|██████████| 10/10 [00:12<00:00,  1.30s/it]\n"
     ]
    }
   ],
   "source": [
    "results = []\n",
    "for text in tqdm(job_list):\n",
    "    try:\n",
    "        extracted_text = cohereMovieExtractor.extract(text)\n",
    "        results.append(extracted_text)\n",
    "    except Exception as e:\n",
    "        print('ERROR: ', e)"
   ]
  },
  {
   "cell_type": "code",
   "execution_count": 81,
   "id": "08791b9b",
   "metadata": {},
   "outputs": [
    {
     "data": {
      "text/html": [
       "<div>\n",
       "<style scoped>\n",
       "    .dataframe tbody tr th:only-of-type {\n",
       "        vertical-align: middle;\n",
       "    }\n",
       "\n",
       "    .dataframe tbody tr th {\n",
       "        vertical-align: top;\n",
       "    }\n",
       "\n",
       "    .dataframe thead th {\n",
       "        text-align: right;\n",
       "    }\n",
       "</style>\n",
       "<table border=\"1\" class=\"dataframe\">\n",
       "  <thead>\n",
       "    <tr style=\"text-align: right;\">\n",
       "      <th></th>\n",
       "      <th>text</th>\n",
       "      <th>extracted_entity</th>\n",
       "    </tr>\n",
       "  </thead>\n",
       "  <tbody>\n",
       "    <tr>\n",
       "      <th>0</th>\n",
       "      <td>Boss actually tried demanding me to donate to the companies “charity”</td>\n",
       "      <td>B</td>\n",
       "    </tr>\n",
       "    <tr>\n",
       "      <th>1</th>\n",
       "      <td>Imposter Syndrome</td>\n",
       "      <td>B</td>\n",
       "    </tr>\n",
       "    <tr>\n",
       "      <th>2</th>\n",
       "      <td>Oh no. How do I say “I enjoyed not having a biweekly mental breakdown over work and school” professionally?</td>\n",
       "      <td>B</td>\n",
       "    </tr>\n",
       "    <tr>\n",
       "      <th>3</th>\n",
       "      <td>3 minutes into the interview the interviewer goes on a tangent about how I'm not a fit for the role.</td>\n",
       "      <td>B</td>\n",
       "    </tr>\n",
       "    <tr>\n",
       "      <th>4</th>\n",
       "      <td>My dad, with 35 years experience as an engineer, just discovered the bullshit that is today's application process.</td>\n",
       "      <td>B</td>\n",
       "    </tr>\n",
       "    <tr>\n",
       "      <th>5</th>\n",
       "      <td>How to help parents understand that it’s difficult to get hired these days?</td>\n",
       "      <td>B</td>\n",
       "    </tr>\n",
       "    <tr>\n",
       "      <th>6</th>\n",
       "      <td>Intentionally bombed an interview and had fun doing it</td>\n",
       "      <td>B</td>\n",
       "    </tr>\n",
       "    <tr>\n",
       "      <th>7</th>\n",
       "      <td>Interviewers not respecting potential hires</td>\n",
       "      <td>B</td>\n",
       "    </tr>\n",
       "    <tr>\n",
       "      <th>8</th>\n",
       "      <td>I got an offer!! Such a great feeling when a company finally sees your worth!</td>\n",
       "      <td>B</td>\n",
       "    </tr>\n",
       "    <tr>\n",
       "      <th>9</th>\n",
       "      <td>People don't leave bad jobs, they leave bad bosses.</td>\n",
       "      <td>B</td>\n",
       "    </tr>\n",
       "  </tbody>\n",
       "</table>\n",
       "</div>"
      ],
      "text/plain": [
       "                                                                                                                 text  \\\n",
       "0                                               Boss actually tried demanding me to donate to the companies “charity”   \n",
       "1                                                                                                   Imposter Syndrome   \n",
       "2         Oh no. How do I say “I enjoyed not having a biweekly mental breakdown over work and school” professionally?   \n",
       "3                3 minutes into the interview the interviewer goes on a tangent about how I'm not a fit for the role.   \n",
       "4  My dad, with 35 years experience as an engineer, just discovered the bullshit that is today's application process.   \n",
       "5                                         How to help parents understand that it’s difficult to get hired these days?   \n",
       "6                                                              Intentionally bombed an interview and had fun doing it   \n",
       "7                                                                         Interviewers not respecting potential hires   \n",
       "8                                       I got an offer!! Such a great feeling when a company finally sees your worth!   \n",
       "9                                                                 People don't leave bad jobs, they leave bad bosses.   \n",
       "\n",
       "  extracted_entity  \n",
       "0                B  \n",
       "1                B  \n",
       "2                B  \n",
       "3                B  \n",
       "4                B  \n",
       "5                B  \n",
       "6                B  \n",
       "7                B  \n",
       "8                B  \n",
       "9                B  "
      ]
     },
     "execution_count": 81,
     "metadata": {},
     "output_type": "execute_result"
    }
   ],
   "source": [
    "# look at the result\n",
    "pd.DataFrame(data={'text': job_list, 'extracted_entity': results})"
   ]
  },
  {
   "cell_type": "markdown",
   "id": "4788716d",
   "metadata": {},
   "source": [
    "## How well does this work?\n",
    "We can better measure the performance of this extraction method using a larger labeled dataset. So let's load a test set of 100 examples:"
   ]
  },
  {
   "cell_type": "code",
   "execution_count": null,
   "id": "0aedc5fc",
   "metadata": {},
   "outputs": [],
   "source": [
    "test_df = pd.read_csv('https://raw.githubusercontent.com/cohere-ai/notebooks/main/notebooks/data/movie_extraction_test_set_100.csv',index_col=0)\n",
    "test_df"
   ]
  },
  {
   "cell_type": "code",
   "execution_count": null,
   "id": "c72f8fda",
   "metadata": {},
   "outputs": [],
   "source": []
  },
  {
   "cell_type": "markdown",
   "id": "b5468cde",
   "metadata": {},
   "source": [
    "Let's run the extractor on these post titles (calling the API in parallel for quicker results):"
   ]
  },
  {
   "cell_type": "code",
   "execution_count": null,
   "id": "47b35be5",
   "metadata": {},
   "outputs": [],
   "source": [
    "from concurrent.futures import ThreadPoolExecutor\n",
    "\n",
    "extracted = []\n",
    "# Run the model to extract the entities\n",
    "with ThreadPoolExecutor(max_workers=8) as executor:\n",
    "    for i in executor.map(cohereMovieExtractor.extract, test_df['text']):\n",
    "        extracted.append(str(i).strip())\n",
    "# Save results\n",
    "test_df['extracted_text'] = extracted"
   ]
  },
  {
   "cell_type": "code",
   "execution_count": null,
   "id": "580e8e6e",
   "metadata": {},
   "outputs": [],
   "source": []
  },
  {
   "cell_type": "code",
   "execution_count": null,
   "id": "e519b01b",
   "metadata": {},
   "outputs": [],
   "source": [
    "#Let's look at some results:\n",
    "\n",
    "test_df.head()"
   ]
  },
  {
   "cell_type": "markdown",
   "id": "0eb31617",
   "metadata": {},
   "source": [
    "Let's calculate the accuracy by comparing to the labeled examples"
   ]
  },
  {
   "cell_type": "code",
   "execution_count": null,
   "id": "dc78dfac",
   "metadata": {},
   "outputs": [],
   "source": [
    "# Compare the label to the extracted text\n",
    "test_df['correct'] = (test_df['label'].str.lower() == test_df['extracted_text'].str.lower()).astype(int)\n",
    "\n",
    "# Print the accuracy\n",
    "print(f'Classification accuracy {test_df[\"correct\"].mean() *100}%')"
   ]
  },
  {
   "cell_type": "markdown",
   "id": "cbfe31e9",
   "metadata": {},
   "source": [
    "So it seems this prompt works well on this small test set. It's not guaranteed it will do as well on other sets, however. The prompt can be improved by trying on more data, discovering edge cases, and adding more examples to the prompt.\n",
    "\n",
    "We can look at the examples it got wrong:"
   ]
  },
  {
   "cell_type": "code",
   "execution_count": null,
   "id": "a149efd6",
   "metadata": {},
   "outputs": [],
   "source": []
  },
  {
   "cell_type": "code",
   "execution_count": null,
   "id": "8a005146",
   "metadata": {},
   "outputs": [],
   "source": []
  },
  {
   "cell_type": "code",
   "execution_count": null,
   "id": "acf221d2",
   "metadata": {},
   "outputs": [],
   "source": []
  }
 ],
 "metadata": {
  "kernelspec": {
   "display_name": "Python 3 (ipykernel)",
   "language": "python",
   "name": "python3"
  },
  "language_info": {
   "codemirror_mode": {
    "name": "ipython",
    "version": 3
   },
   "file_extension": ".py",
   "mimetype": "text/x-python",
   "name": "python",
   "nbconvert_exporter": "python",
   "pygments_lexer": "ipython3",
   "version": "3.9.7"
  }
 },
 "nbformat": 4,
 "nbformat_minor": 5
}
