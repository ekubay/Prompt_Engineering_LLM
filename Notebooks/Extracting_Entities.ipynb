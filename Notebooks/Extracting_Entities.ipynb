{
 "cells": [
  {
   "cell_type": "markdown",
   "id": "6e887a80",
   "metadata": {},
   "source": [
    "# Extracting entities given the dataset with help of LLM prompt\n",
    "Entity Extraction with Generative Models\n"
   ]
  },
  {
   "cell_type": "code",
   "execution_count": 3,
   "id": "6bd1f5e8",
   "metadata": {},
   "outputs": [],
   "source": [
    "# importing libraries\n",
    "import pandas as pd\n",
    "import matplotlib.pyplot as plt\n",
    "%matplotlib inline "
   ]
  },
  {
   "cell_type": "code",
   "execution_count": 4,
   "id": "e6fbaa17",
   "metadata": {},
   "outputs": [],
   "source": [
    "# reading the data\n",
    "df = pd.read_json('../data/relations_dev.txt')"
   ]
  },
  {
   "cell_type": "code",
   "execution_count": 39,
   "id": "01dad279",
   "metadata": {
    "scrolled": true
   },
   "outputs": [],
   "source": [
    "#df_nested_list.head()"
   ]
  },
  {
   "cell_type": "code",
   "execution_count": 32,
   "id": "e3374f5e",
   "metadata": {},
   "outputs": [],
   "source": [
    "# installing the libe\n",
    "!pip install cohere requests tqdm"
   ]
  },
  {
   "cell_type": "code",
   "execution_count": 5,
   "id": "9c1167b7",
   "metadata": {},
   "outputs": [],
   "source": [
    "import cohere\n",
    "import pandas as pd\n",
    "import requests\n",
    "import datetime\n",
    "from tqdm import tqdm\n",
    "pd.set_option('display.max_colwidth', None)"
   ]
  },
  {
   "cell_type": "code",
   "execution_count": 139,
   "id": "c644b697",
   "metadata": {},
   "outputs": [],
   "source": [
    "def get_job_titles():\n",
    "    data = pd.read_json('../data/relations_dev.txt')\n",
    "    #data['document'].head()\n",
    "    return[a['document'] for a in data]"
   ]
  },
  {
   "cell_type": "code",
   "execution_count": 10,
   "id": "c960d88b",
   "metadata": {},
   "outputs": [],
   "source": [
    "import os\n",
    "from dotenv import load_dotenv\n",
    "load_dotenv()\n",
    "\n",
    "COHERE_API_KEY = os.getenv('COHERE_API_KEY')"
   ]
  },
  {
   "cell_type": "code",
   "execution_count": 11,
   "id": "20832f76",
   "metadata": {},
   "outputs": [
    {
     "name": "stdout",
     "output_type": "stream",
     "text": [
      "None\n"
     ]
    }
   ],
   "source": [
    "print(COHERE_API_KEY)"
   ]
  },
  {
   "cell_type": "code",
   "execution_count": 14,
   "id": "16244359",
   "metadata": {},
   "outputs": [],
   "source": [
    "# API\n",
    "my_API = \" \""
   ]
  },
  {
   "cell_type": "code",
   "execution_count": 16,
   "id": "42ac3b93",
   "metadata": {},
   "outputs": [],
   "source": [
    "# connecting to cohere\n",
    "co = cohere.Client(my_API)"
   ]
  },
  {
   "cell_type": "markdown",
   "id": "122c239f",
   "metadata": {},
   "source": [
    "## Preparing examples for the prompt"
   ]
  },
  {
   "cell_type": "code",
   "execution_count": 26,
   "id": "8e0a93b8",
   "metadata": {},
   "outputs": [],
   "source": [
    " # job description\n",
    "job_example =[(\"text\", \"Bachelor\",\n",
    "        \"start\", '0',\n",
    "        \"end\", '8',\n",
    "        \"token_start\", '0',\n",
    "        \"token_end\", '0',\n",
    "        \"entityLabel\", \"DIPLOMA\"),  \n",
    "        (\"text\", \"Mechanical Engineering\",\n",
    "        \"start\", '21',\n",
    "        \"end\", '43',\n",
    "        \"token_start\", '4',\n",
    "        \"token_end\", '5',\n",
    "        \"entityLabel\", \"DIPLOMA_MAJOR\"), \n",
    "        ( \"text\", \"10+ years\",\n",
    "        \"start\", '0',\n",
    "        \"end\", '9',\n",
    "        \"token_start\", '0',\n",
    "        \"token_end\", '2',\n",
    "        \"entityLabel\", \"EXPERIENCE\"),\n",
    "        (\"text\", \"8+ years\",\n",
    "        \"start\", '0',\n",
    "        \"end\", '8',\n",
    "        \"token_start\", '0',\n",
    "        \"token_end\", '2',\n",
    "        \"entityLabel\", \"EXPERIENCE\")]"
   ]
  },
  {
   "cell_type": "code",
   "execution_count": 29,
   "id": "3742719b",
   "metadata": {},
   "outputs": [],
   "source": [
    "job_examples= [(\"Bachelor's degree in Mechanical Engineering or Physical Science 3+ years track record of developing or specifying fiber optic cables and connector related products Knowledge of fiber optic component, cabling, and interconnect products, technologies, and standards Experience in statistical data analysis Experience with product life cycle management (PLM) process Experience providing solutions to problems and meeting deadlines Experience engaging stakeholders PREFERRED Advanced degree Experience using a software tool for statistical data analysis such as JMP Experience using Agile as product life-cycle management tool Data center or other mission critical development experience\"),\n",
    "(\"text\", \"Bachelor\",\n",
    "        \"start\", '0',\n",
    "        \"end\", '8',\n",
    "        \"token_start\", '0',\n",
    "        \"token_end\", '0',\n",
    "        \"entityLabel\", \"DIPLOMA\"),\n",
    "(\"10+ years of software engineering work experience. Technical experience in release automation engineering, CI/CD or related roles. Experience building and leading a software organization through product design, delivery and commercialization of consumer electronics devices. Experience recruiting and managing technical teams, including performance management. BS/MS in Computer Science. Experience in leading timeline, multi-partner initiatives. Organizational communication and coordination experience. PREFERRED 5+ years of experience with hands-on technical management, release engineering, tools engineering, DevOps, or related area.\"),\n",
    "(\"text\", \"Mechanical Engineering\",\n",
    "        \"start\", '21',\n",
    "        \"end\", '43',\n",
    "        \"token_start\", '4',\n",
    "        \"token_end\", '5',\n",
    "        \"entityLabel\", \"DIPLOMA_MAJOR\"),\n",
    "(\"3+ years Swift & Objective-C and experience with iOS internals Experience building an entire app from scratch and ideally a portfolio of apps featured in the App Store Someone who knows every trick in the book on UI transitions, network communication and memory/battery efficiency Strong UI/design skill experience is a plus\"),\n",
    "('text', \"\")             \n",
    "]"
   ]
  },
  {
   "cell_type": "code",
   "execution_count": null,
   "id": "ffe01e14",
   "metadata": {},
   "outputs": [],
   "source": []
  },
  {
   "cell_type": "markdown",
   "id": "b3368bb9",
   "metadata": {},
   "source": [
    "### Creating the extraction prompt"
   ]
  },
  {
   "cell_type": "code",
   "execution_count": 30,
   "id": "e5fed75e",
   "metadata": {},
   "outputs": [],
   "source": [
    "class cohereExtractor():\n",
    "    def __init__(self, examples, example_labels, labels, task_desciption, example_prompt):\n",
    "        self.examples = examples\n",
    "        self.example_labels = example_labels\n",
    "        self.labels = labels\n",
    "        self.task_desciption = task_desciption\n",
    "        self.example_prompt = example_prompt\n",
    "\n",
    "    def make_prompt(self, example):\n",
    "        examples = self.examples + [example]\n",
    "        labels = self.example_labels + [\"\"]\n",
    "        return (self.task_desciption +\n",
    "                \"\\n---\\n\".join( [examples[i] + \"\\n\" +\n",
    "                                self.example_prompt + \n",
    "                                 labels[i] for i in range(len(examples))]))\n",
    "\n",
    "    def extract(self, example):\n",
    "        extraction = co.generate(\n",
    "          model='large',\n",
    "          prompt=self.make_prompt(example),\n",
    "          max_tokens=10,\n",
    "          temperature=0.1,\n",
    "          stop_sequences=[\"\\n\"])\n",
    "        return(extraction.generations[0].text[:-1])\n",
    "\n",
    "\n",
    "cohereJobExtractor = cohereExtractor([e[1] for e in job_examples], \n",
    "                                       [e[0] for e in job_examples], [],\n",
    "                                       \"\", \n",
    "                                       \"the entites:\")"
   ]
  },
  {
   "cell_type": "code",
   "execution_count": 33,
   "id": "090a3d0c",
   "metadata": {},
   "outputs": [
    {
     "name": "stdout",
     "output_type": "stream",
     "text": [
      "a\n",
      "the entites:B\n",
      "---\n",
      "Bachelor\n",
      "the entites:text\n",
      "---\n",
      "0\n",
      "the entites:1\n",
      "---\n",
      "Mechanical Engineering\n",
      "the entites:text\n",
      "---\n",
      "+\n",
      "the entites:3\n",
      "---\n",
      "\n",
      "the entites:text\n",
      "---\n",
      "\n",
      "the entites:\n"
     ]
    }
   ],
   "source": [
    "# This is what the prompt looks like:\n",
    "print(cohereJobExtractor.make_prompt(\"\"))"
   ]
  },
  {
   "cell_type": "markdown",
   "id": "02bbd838",
   "metadata": {},
   "source": [
    "## Getting the data\n",
    "Make the API call to get the jobs."
   ]
  },
  {
   "cell_type": "code",
   "execution_count": 153,
   "id": "dd6f04bf",
   "metadata": {},
   "outputs": [
    {
     "data": {
      "text/plain": [
       "['Causes of the Great Resignation',\n",
       " 'Sent a thank you email, and I just heard back…',\n",
       " 'Boss wants me to tell him how I can progress… I don’t know if I can.',\n",
       " 'I GOT A NEW JOB!!',\n",
       " 'How do I not take rejections personally?',\n",
       " 'Resigned with 2 weeks\\' notice, then told that I would be \"ineligible for rehire\" unless I gave 4 weeks\\' notice',\n",
       " 'Wife (F28) in Marketing facing a brick wall in the way of career development',\n",
       " 'Rejected for lack of experience',\n",
       " 'I got a follow up call after an interview!',\n",
       " \"I'm TIRED of dealing with recruiters, but applying to jobs lately directly on their portal/site is just like yelling into the void and I NEVER hear back. Not sure what's wrong with everyone's hiring processes.\"]"
      ]
     },
     "execution_count": 153,
     "metadata": {},
     "output_type": "execute_result"
    }
   ],
   "source": [
    "num_posts = 10\n",
    "\n",
    "job_list = get_post_titles(size=num_posts, \n",
    "      after=str(int(datetime.datetime(2022,1,1,0,0).timestamp())), \n",
    "      before=str(int(datetime.datetime(2023,1,1,0,0).timestamp())), \n",
    "      subreddit=\"jobs\", \n",
    "      sort_type=\"score\", \n",
    "      sort=\"desc\")\n",
    "\n",
    "# Show the list\n",
    "job_list"
   ]
  },
  {
   "cell_type": "markdown",
   "id": "4baf5364",
   "metadata": {},
   "source": [
    "## Running the model\n",
    "And now we loop over the posts and process each one of them with our extractor."
   ]
  },
  {
   "cell_type": "code",
   "execution_count": 154,
   "id": "3ac5df93",
   "metadata": {},
   "outputs": [
    {
     "name": "stderr",
     "output_type": "stream",
     "text": [
      "100%|██████████| 10/10 [00:21<00:00,  2.20s/it]\n"
     ]
    }
   ],
   "source": [
    "results = []\n",
    "for text in tqdm(job_list):\n",
    "    try:\n",
    "        extracted_text = cohereJobExtractor.extract(text)\n",
    "        results.append(extracted_text)\n",
    "    except Exception as e:\n",
    "        print('ERROR: ', e)"
   ]
  },
  {
   "cell_type": "code",
   "execution_count": 155,
   "id": "8e1f25fe",
   "metadata": {},
   "outputs": [
    {
     "data": {
      "text/html": [
       "<div>\n",
       "<style scoped>\n",
       "    .dataframe tbody tr th:only-of-type {\n",
       "        vertical-align: middle;\n",
       "    }\n",
       "\n",
       "    .dataframe tbody tr th {\n",
       "        vertical-align: top;\n",
       "    }\n",
       "\n",
       "    .dataframe thead th {\n",
       "        text-align: right;\n",
       "    }\n",
       "</style>\n",
       "<table border=\"1\" class=\"dataframe\">\n",
       "  <thead>\n",
       "    <tr style=\"text-align: right;\">\n",
       "      <th></th>\n",
       "      <th>text</th>\n",
       "      <th>extracted_entity</th>\n",
       "    </tr>\n",
       "  </thead>\n",
       "  <tbody>\n",
       "    <tr>\n",
       "      <th>0</th>\n",
       "      <td>Causes of the Great Resignation</td>\n",
       "      <td>text</td>\n",
       "    </tr>\n",
       "    <tr>\n",
       "      <th>1</th>\n",
       "      <td>Sent a thank you email, and I just heard back…</td>\n",
       "      <td>text</td>\n",
       "    </tr>\n",
       "    <tr>\n",
       "      <th>2</th>\n",
       "      <td>Boss wants me to tell him how I can progress… I don’t know if I can.</td>\n",
       "      <td>text</td>\n",
       "    </tr>\n",
       "    <tr>\n",
       "      <th>3</th>\n",
       "      <td>I GOT A NEW JOB!!</td>\n",
       "      <td>text</td>\n",
       "    </tr>\n",
       "    <tr>\n",
       "      <th>4</th>\n",
       "      <td>How do I not take rejections personally?</td>\n",
       "      <td>text</td>\n",
       "    </tr>\n",
       "    <tr>\n",
       "      <th>5</th>\n",
       "      <td>Resigned with 2 weeks' notice, then told that I would be \"ineligible for rehire\" unless I gave 4 weeks' notice</td>\n",
       "      <td>text</td>\n",
       "    </tr>\n",
       "    <tr>\n",
       "      <th>6</th>\n",
       "      <td>Wife (F28) in Marketing facing a brick wall in the way of career development</td>\n",
       "      <td>text</td>\n",
       "    </tr>\n",
       "    <tr>\n",
       "      <th>7</th>\n",
       "      <td>Rejected for lack of experience</td>\n",
       "      <td>text</td>\n",
       "    </tr>\n",
       "    <tr>\n",
       "      <th>8</th>\n",
       "      <td>I got a follow up call after an interview!</td>\n",
       "      <td>text</td>\n",
       "    </tr>\n",
       "    <tr>\n",
       "      <th>9</th>\n",
       "      <td>I'm TIRED of dealing with recruiters, but applying to jobs lately directly on their portal/site is just like yelling into the void and I NEVER hear back. Not sure what's wrong with everyone's hiring processes.</td>\n",
       "      <td>text</td>\n",
       "    </tr>\n",
       "  </tbody>\n",
       "</table>\n",
       "</div>"
      ],
      "text/plain": [
       "                                                                                                                                                                                                                text  \\\n",
       "0                                                                                                                                                                                    Causes of the Great Resignation   \n",
       "1                                                                                                                                                                     Sent a thank you email, and I just heard back…   \n",
       "2                                                                                                                                               Boss wants me to tell him how I can progress… I don’t know if I can.   \n",
       "3                                                                                                                                                                                                  I GOT A NEW JOB!!   \n",
       "4                                                                                                                                                                           How do I not take rejections personally?   \n",
       "5                                                                                                     Resigned with 2 weeks' notice, then told that I would be \"ineligible for rehire\" unless I gave 4 weeks' notice   \n",
       "6                                                                                                                                       Wife (F28) in Marketing facing a brick wall in the way of career development   \n",
       "7                                                                                                                                                                                    Rejected for lack of experience   \n",
       "8                                                                                                                                                                         I got a follow up call after an interview!   \n",
       "9  I'm TIRED of dealing with recruiters, but applying to jobs lately directly on their portal/site is just like yelling into the void and I NEVER hear back. Not sure what's wrong with everyone's hiring processes.   \n",
       "\n",
       "  extracted_entity  \n",
       "0             text  \n",
       "1             text  \n",
       "2             text  \n",
       "3             text  \n",
       "4             text  \n",
       "5             text  \n",
       "6             text  \n",
       "7             text  \n",
       "8             text  \n",
       "9             text  "
      ]
     },
     "execution_count": 155,
     "metadata": {},
     "output_type": "execute_result"
    }
   ],
   "source": [
    "# look at the result\n",
    "pd.DataFrame(data={'text': job_list, 'extracted_entity': results})"
   ]
  },
  {
   "cell_type": "markdown",
   "id": "9029dc96",
   "metadata": {},
   "source": [
    "## Testing the extraction"
   ]
  },
  {
   "cell_type": "code",
   "execution_count": 150,
   "id": "c240574c",
   "metadata": {},
   "outputs": [
    {
     "data": {
      "text/html": [
       "<div>\n",
       "<style scoped>\n",
       "    .dataframe tbody tr th:only-of-type {\n",
       "        vertical-align: middle;\n",
       "    }\n",
       "\n",
       "    .dataframe tbody tr th {\n",
       "        vertical-align: top;\n",
       "    }\n",
       "\n",
       "    .dataframe thead th {\n",
       "        text-align: right;\n",
       "    }\n",
       "</style>\n",
       "<table border=\"1\" class=\"dataframe\">\n",
       "  <thead>\n",
       "    <tr style=\"text-align: right;\">\n",
       "      <th></th>\n",
       "      <th>document</th>\n",
       "      <th>tokens</th>\n",
       "      <th>relations</th>\n",
       "    </tr>\n",
       "  </thead>\n",
       "  <tbody>\n",
       "    <tr>\n",
       "      <th>0</th>\n",
       "      <td>\\nCurrently holding a faculty, industry, or government researcher position.\\nPh.D. and publications in machine learning, AI, computer science, statistics, applied mathematics, data science, or related technical fields.\\nExperience leading a team in solving analytical problems using quantitative approaches.\\nExperience manipulating and analyzing data from different sources.\\nExperience in theoretical and empirical research and for answering questions with research.\\nAbility to communicate research for public audiences of peers.\\nKnowledge in a programming language.\\nAbility to obtain and maintain work authorization in the country of employment in 2018.\\n\\nPREFERRED \\n1+ year(s) of work experience in a university, industry, or government lab(s), in a role with primary emphasis on AI research.\\nExperience driving original scholarship in collaboration with a team.\\nFirst-author publications at peer-reviewed AI conferences (e.g. NIPS, CVPR, ICML, ICLR, ICCV, and ACL).\\nExperience in developing and debugging in C/C++, Python, C# and/or Java.</td>\n",
       "      <td>[{'text': 'Ph.D.', 'start': 75, 'end': 80, 'token_start': 14, 'token_end': 14, 'entityLabel': 'DIPLOMA'}, {'text': 'machine learning', 'start': 101, 'end': 117, 'token_start': 18, 'token_end': 19, 'entityLabel': 'DIPLOMA_MAJOR'}, {'text': 'AI', 'start': 119, 'end': 121, 'token_start': 21, 'token_end': 21, 'entityLabel': 'DIPLOMA_MAJOR'}, {'text': 'computer science', 'start': 123, 'end': 139, 'token_start': 23, 'token_end': 24, 'entityLabel': 'DIPLOMA_MAJOR'}, {'text': 'statistics', 'start': 141, 'end': 151, 'token_start': 26, 'token_end': 26, 'entityLabel': 'DIPLOMA_MAJOR'}, {'text': 'applied mathematics', 'start': 153, 'end': 172, 'token_start': 28, 'token_end': 29, 'entityLabel': 'DIPLOMA_MAJOR'}, {'text': 'data science', 'start': 174, 'end': 186, 'token_start': 31, 'token_end': 32, 'entityLabel': 'DIPLOMA_MAJOR'}, {'text': '1+ year(s', 'start': 664, 'end': 673, 'token_start': 113, 'token_end': 115, 'entityLabel': 'EXPERIENCE'}, {'text': 'university', 'start': 699, 'end': 709, 'token_start': 122, 'token_end': 122, 'entityLabel': 'SKILLS'}, {'text': 'industry', 'start': 711, 'end': 719, 'token_start': 124, 'token_end': 124, 'entityLabel': 'SKILLS'}, {'text': 'government lab(s)', 'start': 724, 'end': 741, 'token_start': 127, 'token_end': 129, 'entityLabel': 'SKILLS'}, {'text': 'AI', 'start': 778, 'end': 780, 'token_start': 138, 'token_end': 138, 'entityLabel': 'SKILLS'}]</td>\n",
       "      <td>[{'child': 18, 'head': 14, 'relationLabel': 'DEGREE_IN'}, {'child': 21, 'head': 14, 'relationLabel': 'DEGREE_IN'}, {'child': 23, 'head': 14, 'relationLabel': 'DEGREE_IN'}, {'child': 26, 'head': 14, 'relationLabel': 'DEGREE_IN'}, {'child': 28, 'head': 14, 'relationLabel': 'DEGREE_IN'}, {'child': 31, 'head': 14, 'relationLabel': 'DEGREE_IN'}, {'child': 122, 'head': 113, 'relationLabel': 'EXPERIENCE_IN'}, {'child': 124, 'head': 113, 'relationLabel': 'EXPERIENCE_IN'}, {'child': 127, 'head': 113, 'relationLabel': 'EXPERIENCE_IN'}, {'child': 138, 'head': 113, 'relationLabel': 'EXPERIENCE_IN'}]</td>\n",
       "    </tr>\n",
       "  </tbody>\n",
       "</table>\n",
       "</div>"
      ],
      "text/plain": [
       "                                                                                                                                                                                                                                                                                                                                                                                                                                                                                                                                                                                                                                                                                                                                                                                                                                                                                                                                                                                                                                                                                      document  \\\n",
       "0  \\nCurrently holding a faculty, industry, or government researcher position.\\nPh.D. and publications in machine learning, AI, computer science, statistics, applied mathematics, data science, or related technical fields.\\nExperience leading a team in solving analytical problems using quantitative approaches.\\nExperience manipulating and analyzing data from different sources.\\nExperience in theoretical and empirical research and for answering questions with research.\\nAbility to communicate research for public audiences of peers.\\nKnowledge in a programming language.\\nAbility to obtain and maintain work authorization in the country of employment in 2018.\\n\\nPREFERRED \\n1+ year(s) of work experience in a university, industry, or government lab(s), in a role with primary emphasis on AI research.\\nExperience driving original scholarship in collaboration with a team.\\nFirst-author publications at peer-reviewed AI conferences (e.g. NIPS, CVPR, ICML, ICLR, ICCV, and ACL).\\nExperience in developing and debugging in C/C++, Python, C# and/or Java.   \n",
       "\n",
       "                                                                                                                                                                                                                                                                                                                                                                                                                                                                                                                                                                                                                                                                                                                                                                                                                                                                                                                                                                                                                                                                                                                                                                                                                                                                                                                                                                                                                                              tokens  \\\n",
       "0  [{'text': 'Ph.D.', 'start': 75, 'end': 80, 'token_start': 14, 'token_end': 14, 'entityLabel': 'DIPLOMA'}, {'text': 'machine learning', 'start': 101, 'end': 117, 'token_start': 18, 'token_end': 19, 'entityLabel': 'DIPLOMA_MAJOR'}, {'text': 'AI', 'start': 119, 'end': 121, 'token_start': 21, 'token_end': 21, 'entityLabel': 'DIPLOMA_MAJOR'}, {'text': 'computer science', 'start': 123, 'end': 139, 'token_start': 23, 'token_end': 24, 'entityLabel': 'DIPLOMA_MAJOR'}, {'text': 'statistics', 'start': 141, 'end': 151, 'token_start': 26, 'token_end': 26, 'entityLabel': 'DIPLOMA_MAJOR'}, {'text': 'applied mathematics', 'start': 153, 'end': 172, 'token_start': 28, 'token_end': 29, 'entityLabel': 'DIPLOMA_MAJOR'}, {'text': 'data science', 'start': 174, 'end': 186, 'token_start': 31, 'token_end': 32, 'entityLabel': 'DIPLOMA_MAJOR'}, {'text': '1+ year(s', 'start': 664, 'end': 673, 'token_start': 113, 'token_end': 115, 'entityLabel': 'EXPERIENCE'}, {'text': 'university', 'start': 699, 'end': 709, 'token_start': 122, 'token_end': 122, 'entityLabel': 'SKILLS'}, {'text': 'industry', 'start': 711, 'end': 719, 'token_start': 124, 'token_end': 124, 'entityLabel': 'SKILLS'}, {'text': 'government lab(s)', 'start': 724, 'end': 741, 'token_start': 127, 'token_end': 129, 'entityLabel': 'SKILLS'}, {'text': 'AI', 'start': 778, 'end': 780, 'token_start': 138, 'token_end': 138, 'entityLabel': 'SKILLS'}]   \n",
       "\n",
       "                                                                                                                                                                                                                                                                                                                                                                                                                                                                                                                                                                                                            relations  \n",
       "0  [{'child': 18, 'head': 14, 'relationLabel': 'DEGREE_IN'}, {'child': 21, 'head': 14, 'relationLabel': 'DEGREE_IN'}, {'child': 23, 'head': 14, 'relationLabel': 'DEGREE_IN'}, {'child': 26, 'head': 14, 'relationLabel': 'DEGREE_IN'}, {'child': 28, 'head': 14, 'relationLabel': 'DEGREE_IN'}, {'child': 31, 'head': 14, 'relationLabel': 'DEGREE_IN'}, {'child': 122, 'head': 113, 'relationLabel': 'EXPERIENCE_IN'}, {'child': 124, 'head': 113, 'relationLabel': 'EXPERIENCE_IN'}, {'child': 127, 'head': 113, 'relationLabel': 'EXPERIENCE_IN'}, {'child': 138, 'head': 113, 'relationLabel': 'EXPERIENCE_IN'}]  "
      ]
     },
     "execution_count": 150,
     "metadata": {},
     "output_type": "execute_result"
    }
   ],
   "source": [
    "test_df = pd.read_json('../data/relations_test.txt')\n",
    "test_df.head(1)"
   ]
  },
  {
   "cell_type": "code",
   "execution_count": null,
   "id": "005643aa",
   "metadata": {},
   "outputs": [],
   "source": []
  },
  {
   "cell_type": "markdown",
   "id": "8705c47f",
   "metadata": {},
   "source": [
    "**to be continued...**"
   ]
  },
  {
   "cell_type": "code",
   "execution_count": null,
   "id": "bb4c07c9",
   "metadata": {},
   "outputs": [],
   "source": []
  }
 ],
 "metadata": {
  "kernelspec": {
   "display_name": "Python 3 (ipykernel)",
   "language": "python",
   "name": "python3"
  },
  "language_info": {
   "codemirror_mode": {
    "name": "ipython",
    "version": 3
   },
   "file_extension": ".py",
   "mimetype": "text/x-python",
   "name": "python",
   "nbconvert_exporter": "python",
   "pygments_lexer": "ipython3",
   "version": "3.9.7"
  },
  "vscode": {
   "interpreter": {
    "hash": "d92a463f56a44c679dbf37f36c0b8cf5a8e6a8703caf20e62bf7b12887e2a204"
   }
  }
 },
 "nbformat": 4,
 "nbformat_minor": 5
}
