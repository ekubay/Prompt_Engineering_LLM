{
 "cells": [
  {
   "cell_type": "markdown",
   "id": "514554d3",
   "metadata": {},
   "source": [
    "# Extracting entities given the dataset with help of LLM prompt\n",
    "Entity Extraction with Generative Models\n"
   ]
  },
  {
   "cell_type": "code",
   "execution_count": 1,
   "id": "5be30893",
   "metadata": {},
   "outputs": [],
   "source": [
    "# importing libraries\n",
    "import pandas as pd\n",
    "import matplotlib.pyplot as plt\n",
    "%matplotlib inline "
   ]
  },
  {
   "cell_type": "code",
   "execution_count": 2,
   "id": "17b043a8",
   "metadata": {},
   "outputs": [],
   "source": [
    "# reading the data\n",
    "df = pd.read_json('../data/relations_dev.txt')"
   ]
  },
  {
   "cell_type": "code",
   "execution_count": 39,
   "id": "a2530992",
   "metadata": {
    "scrolled": true
   },
   "outputs": [],
   "source": [
    "#df_nested_list.head()"
   ]
  },
  {
   "cell_type": "code",
   "execution_count": 6,
   "id": "6702910c",
   "metadata": {},
   "outputs": [],
   "source": [
    "import json\n",
    "# load data using Python JSON module\n",
    "with open('../data/relations_dev.txt','r') as f:\n",
    "    data = json.loads(f.read())\n",
    "# Flatten data\n",
    "df_nested_list2 = pd.json_normalize(data, record_path =['relations'])"
   ]
  },
  {
   "cell_type": "code",
   "execution_count": 12,
   "id": "0340ee55",
   "metadata": {},
   "outputs": [],
   "source": [
    "#df_nested_list2 = pd.json_normalize('../data/relations_dev.txt', 'r')"
   ]
  },
  {
   "cell_type": "code",
   "execution_count": 18,
   "id": "00e3b648",
   "metadata": {},
   "outputs": [],
   "source": [
    "#df_nested_list =pd.merge(df_nested_list, df_nested_list, )\n",
    "\n",
    "concatenated = pd.concat([df_nested_list, df_nested_list2], axis=\"columns\")"
   ]
  },
  {
   "cell_type": "code",
   "execution_count": 19,
   "id": "c724fb08",
   "metadata": {},
   "outputs": [
    {
     "data": {
      "text/html": [
       "<div>\n",
       "<style scoped>\n",
       "    .dataframe tbody tr th:only-of-type {\n",
       "        vertical-align: middle;\n",
       "    }\n",
       "\n",
       "    .dataframe tbody tr th {\n",
       "        vertical-align: top;\n",
       "    }\n",
       "\n",
       "    .dataframe thead th {\n",
       "        text-align: right;\n",
       "    }\n",
       "</style>\n",
       "<table border=\"1\" class=\"dataframe\">\n",
       "  <thead>\n",
       "    <tr style=\"text-align: right;\">\n",
       "      <th></th>\n",
       "      <th>text</th>\n",
       "      <th>start</th>\n",
       "      <th>end</th>\n",
       "      <th>token_start</th>\n",
       "      <th>token_end</th>\n",
       "      <th>entityLabel</th>\n",
       "      <th>child</th>\n",
       "      <th>head</th>\n",
       "      <th>relationLabel</th>\n",
       "    </tr>\n",
       "  </thead>\n",
       "  <tbody>\n",
       "    <tr>\n",
       "      <th>0</th>\n",
       "      <td>Bachelor</td>\n",
       "      <td>0</td>\n",
       "      <td>8</td>\n",
       "      <td>0</td>\n",
       "      <td>0</td>\n",
       "      <td>DIPLOMA</td>\n",
       "      <td>4.0</td>\n",
       "      <td>0.0</td>\n",
       "      <td>DEGREE_IN</td>\n",
       "    </tr>\n",
       "    <tr>\n",
       "      <th>1</th>\n",
       "      <td>Mechanical Engineering</td>\n",
       "      <td>21</td>\n",
       "      <td>43</td>\n",
       "      <td>4</td>\n",
       "      <td>5</td>\n",
       "      <td>DIPLOMA_MAJOR</td>\n",
       "      <td>7.0</td>\n",
       "      <td>0.0</td>\n",
       "      <td>DEGREE_IN</td>\n",
       "    </tr>\n",
       "    <tr>\n",
       "      <th>2</th>\n",
       "      <td>Physical Science</td>\n",
       "      <td>47</td>\n",
       "      <td>63</td>\n",
       "      <td>7</td>\n",
       "      <td>8</td>\n",
       "      <td>DIPLOMA_MAJOR</td>\n",
       "      <td>15.0</td>\n",
       "      <td>9.0</td>\n",
       "      <td>EXPERIENCE_IN</td>\n",
       "    </tr>\n",
       "    <tr>\n",
       "      <th>3</th>\n",
       "      <td>3+ years</td>\n",
       "      <td>64</td>\n",
       "      <td>72</td>\n",
       "      <td>9</td>\n",
       "      <td>11</td>\n",
       "      <td>EXPERIENCE</td>\n",
       "      <td>18.0</td>\n",
       "      <td>9.0</td>\n",
       "      <td>EXPERIENCE_IN</td>\n",
       "    </tr>\n",
       "    <tr>\n",
       "      <th>4</th>\n",
       "      <td>developing</td>\n",
       "      <td>89</td>\n",
       "      <td>99</td>\n",
       "      <td>15</td>\n",
       "      <td>15</td>\n",
       "      <td>SKILLS</td>\n",
       "      <td>22.0</td>\n",
       "      <td>9.0</td>\n",
       "      <td>EXPERIENCE_IN</td>\n",
       "    </tr>\n",
       "  </tbody>\n",
       "</table>\n",
       "</div>"
      ],
      "text/plain": [
       "                     text  start  end  token_start  token_end    entityLabel  \\\n",
       "0                Bachelor      0    8            0          0        DIPLOMA   \n",
       "1  Mechanical Engineering     21   43            4          5  DIPLOMA_MAJOR   \n",
       "2        Physical Science     47   63            7          8  DIPLOMA_MAJOR   \n",
       "3                3+ years     64   72            9         11     EXPERIENCE   \n",
       "4              developing     89   99           15         15         SKILLS   \n",
       "\n",
       "   child  head  relationLabel  \n",
       "0    4.0   0.0      DEGREE_IN  \n",
       "1    7.0   0.0      DEGREE_IN  \n",
       "2   15.0   9.0  EXPERIENCE_IN  \n",
       "3   18.0   9.0  EXPERIENCE_IN  \n",
       "4   22.0   9.0  EXPERIENCE_IN  "
      ]
     },
     "execution_count": 19,
     "metadata": {},
     "output_type": "execute_result"
    }
   ],
   "source": [
    "concatenated.head()"
   ]
  },
  {
   "cell_type": "code",
   "execution_count": 25,
   "id": "a6056249",
   "metadata": {},
   "outputs": [],
   "source": [
    "#clean_df = pd.concat([df1, concatenated], axis=\"columns\")"
   ]
  },
  {
   "cell_type": "code",
   "execution_count": 41,
   "id": "269fbe53",
   "metadata": {
    "scrolled": true
   },
   "outputs": [],
   "source": [
    "#clean_df.head()"
   ]
  },
  {
   "cell_type": "code",
   "execution_count": 28,
   "id": "c58b5296",
   "metadata": {},
   "outputs": [
    {
     "data": {
      "text/plain": [
       "(145, 10)"
      ]
     },
     "execution_count": 28,
     "metadata": {},
     "output_type": "execute_result"
    }
   ],
   "source": [
    "clean_df.shape"
   ]
  },
  {
   "cell_type": "code",
   "execution_count": 29,
   "id": "4eea1575",
   "metadata": {},
   "outputs": [],
   "source": [
    "#clean_df.to_csv('../data/relation.csv')"
   ]
  },
  {
   "cell_type": "code",
   "execution_count": 40,
   "id": "dc80c626",
   "metadata": {
    "scrolled": true
   },
   "outputs": [],
   "source": [
    "#clean_df.head()"
   ]
  },
  {
   "cell_type": "code",
   "execution_count": 32,
   "id": "776d7267",
   "metadata": {},
   "outputs": [],
   "source": [
    "# installing the libe\n",
    "!pip install cohere requests tqdm"
   ]
  },
  {
   "cell_type": "code",
   "execution_count": 33,
   "id": "3fbe97fe",
   "metadata": {},
   "outputs": [],
   "source": [
    "import cohere\n",
    "import pandas as pd\n",
    "import requests\n",
    "import datetime\n",
    "from tqdm import tqdm\n",
    "pd.set_option('display.max_colwidth', None)\n",
    "\n",
    "def get_post_titles():\n",
    "    \"\"\" Gets data from the pushshift api. Read more: https://github.com/pushshift/api \"\"\"\n",
    "    #base_url = f\"https://api.pushshift.io/reddit/search/submission/\"\n",
    "    #base_data = f\"../data/relations_dev.txt\"\n",
    "    #payload = kwargs\n",
    "    #request = requests.get(base_url, params=payload)\n",
    "    #return [a['title'] for a in request.json()['data']]\n",
    "    data = pd.read_json('../data/relations_dev.txt')\n",
    "    return data['document']\n",
    "\n",
    "\n"
   ]
  },
  {
   "cell_type": "code",
   "execution_count": 42,
   "id": "61fd7d9f",
   "metadata": {},
   "outputs": [],
   "source": [
    "my_API = \"nMqcDQ2gC0vxFVwIDvUINps6zJTvYZOskiz5dhq1\""
   ]
  },
  {
   "cell_type": "code",
   "execution_count": 43,
   "id": "e5cd6819",
   "metadata": {},
   "outputs": [],
   "source": [
    "# Paste your API key here. Remember to not share publicly\n",
    "#api_key = ''\n",
    "\n",
    "# Create and retrieve a Cohere API key from os.cohere.ai\n",
    "co = cohere.Client(my_API)"
   ]
  },
  {
   "cell_type": "markdown",
   "id": "5539984c",
   "metadata": {},
   "source": [
    "# Preparing examples for the prompt\n",
    "In our prompt, we'll present the model with examples for the type of output we're after. We basically get a set of subreddit article titles, and label them ourselves. The label here is the name of the movie mentioned in the title (and \"none\" if no movie is mentioned)."
   ]
  },
  {
   "cell_type": "code",
   "execution_count": 47,
   "id": "21b2dcf4",
   "metadata": {},
   "outputs": [],
   "source": [
    "# job description\n",
    "movie_examples= [(\"Bachelor's degree in Mechanical Engineering or Physical Science 3+ years track record of developing or specifying fiber optic cables and connector related products Knowledge of fiber optic component, cabling, and interconnect products, technologies, and standards Experience in statistical data analysis Experience with product life cycle management (PLM) process Experience providing solutions to problems and meeting deadlines Experience engaging stakeholders PREFERRED Advanced degree Experience using a software tool for statistical data analysis such as JMP Experience using Agile as product life-cycle management tool Data center or other mission critical development experience\"),\n",
    "(\"10+ years of software engineering work experience. Technical experience in release automation engineering, CI/CD or related roles. Experience building and leading a software organization through product design, delivery and commercialization of consumer electronics devices. Experience recruiting and managing technical teams, including performance management. BS/MS in Computer Science. Experience in leading timeline, multi-partner initiatives. Organizational communication and coordination experience. PREFERRED 5+ years of experience with hands-on technical management, release engineering, tools engineering, DevOps, or related area.\"),\n",
    "(\"3+ years Swift & Objective-C and experience with iOS internals Experience building an entire app from scratch and ideally a portfolio of apps featured in the App Store Someone who knows every trick in the book on UI transitions, network communication and memory/battery efficiency Strong UI/design skill experience is a plus\"),\n",
    "(\"8+ years experience in software engineering leadership 5+ years people management experience including managing leaders and managing remotely across regions Strategic thinker with proven track record of transforming operations to provide customer experience through innovation and improvement Track record of working with VP, C-level Executives Experience deploying operational support models across enterprise organizations Communication/presentations experience Experience working with all levels of management internally and externally Experience meeting objectives in an entrepreneurial environment Collaboration and relationship-building experience BA/BS degree or higher\")\n",
    "]"
   ]
  },
  {
   "cell_type": "markdown",
   "id": "a9cb0bbb",
   "metadata": {},
   "source": [
    "## Creating the extraction prompt\n",
    "We'll create a prompt that demonstrates the task to the model. The prompt contains the examples above, and then presents the input text and asks the model to extract the movie name."
   ]
  },
  {
   "cell_type": "code",
   "execution_count": null,
   "id": "be85d750",
   "metadata": {},
   "outputs": [],
   "source": []
  },
  {
   "cell_type": "code",
   "execution_count": 51,
   "id": "f213e3c9",
   "metadata": {},
   "outputs": [],
   "source": [
    "#@title Create the prompt (Run this cell to execute required code) {display-mode: \"form\"}\n",
    "\n",
    "class cohereExtractor():\n",
    "    def __init__(self, examples, example_labels, labels, task_desciption, example_prompt):\n",
    "        self.examples = examples\n",
    "        self.example_labels = example_labels\n",
    "        self.labels = labels\n",
    "        self.task_desciption = task_desciption\n",
    "        self.example_prompt = example_prompt\n",
    "\n",
    "    def make_prompt(self, example):\n",
    "        examples = self.examples + [example]\n",
    "        labels = self.example_labels + [\"\"]\n",
    "        return (self.task_desciption +\n",
    "                \"\\n---\\n\".join( [examples[i] + \"\\n\" +\n",
    "                                self.example_prompt + \n",
    "                                 labels[i] for i in range(len(examples))]))\n",
    "\n",
    "    def extract(self, example):\n",
    "        extraction = co.generate(\n",
    "          model='large',\n",
    "          prompt=self.make_prompt(example),\n",
    "          max_tokens=10,\n",
    "          temperature=0.1,\n",
    "          stop_sequences=[\"\\n\"])\n",
    "        return(extraction.generations[0].text[:-1])\n",
    "\n",
    "\n",
    "cohereMovieExtractor = cohereExtractor([e[1] for e in movie_examples], \n",
    "                                       [e[0] for e in movie_examples], [],\n",
    "                                       \"\", \n",
    "                                       \"extract the title of the job description:\")\n",
    "\n",
    "# Uncomment to inspect the full prompt:\n",
    "# print(cohereMovieExtractor.make_prompt('<input text here>'))"
   ]
  },
  {
   "cell_type": "code",
   "execution_count": 52,
   "id": "f4155906",
   "metadata": {},
   "outputs": [
    {
     "name": "stdout",
     "output_type": "stream",
     "text": [
      "a\n",
      "extract the title of the job description:B\n",
      "---\n",
      "0\n",
      "extract the title of the job description:1\n",
      "---\n",
      "+\n",
      "extract the title of the job description:3\n",
      "---\n",
      "+\n",
      "extract the title of the job description:8\n",
      "---\n",
      "\"EXPERIENCE\"\n",
      "extract the title of the job description:\n"
     ]
    }
   ],
   "source": [
    "# This is what the prompt looks like:\n",
    "print(cohereMovieExtractor.make_prompt('\"EXPERIENCE\"'))"
   ]
  },
  {
   "cell_type": "markdown",
   "id": "c8f5546f",
   "metadata": {},
   "source": [
    "## Getting the data\n",
    "Let's now make the API call to get the top posts for 2021 from r/movies."
   ]
  },
  {
   "cell_type": "code",
   "execution_count": null,
   "id": "812b96f5",
   "metadata": {},
   "outputs": [],
   "source": [
    "num_posts = 10\n",
    "\n",
    "movies_list = get_post_titles(size=num_posts, \n",
    "      after=str(int(datetime.datetime(2021,1,1,0,0).timestamp())), \n",
    "      before=str(int(datetime.datetime(2022,1,1,0,0).timestamp())), \n",
    "      subreddit=\"movies\", \n",
    "      sort_type=\"score\", \n",
    "      sort=\"desc\")\n",
    "\n",
    "# Show the list\n",
    "movies_list"
   ]
  },
  {
   "cell_type": "markdown",
   "id": "32b52c51",
   "metadata": {},
   "source": [
    "## Running the model\n",
    "And now we loop over the posts and process each one of them with our extractor."
   ]
  },
  {
   "cell_type": "code",
   "execution_count": null,
   "id": "1e8ed0e2",
   "metadata": {},
   "outputs": [],
   "source": [
    "results = []\n",
    "for text in tqdm(movies_list):\n",
    "    try:\n",
    "        extracted_text = cohereMovieExtractor.extract(text)\n",
    "        results.append(extracted_text)\n",
    "    except Exception as e:\n",
    "        print('ERROR: ', e)"
   ]
  },
  {
   "cell_type": "code",
   "execution_count": null,
   "id": "7e50328e",
   "metadata": {},
   "outputs": [],
   "source": [
    "# look at the result\n",
    "pd.DataFrame(data={'text': movies_list, 'extracted_text': results})"
   ]
  },
  {
   "cell_type": "markdown",
   "id": "4d333968",
   "metadata": {},
   "source": [
    "## How well does this work?\n",
    "We can better measure the performance of this extraction method using a larger labeled dataset. So let's load a test set of 100 examples:"
   ]
  },
  {
   "cell_type": "code",
   "execution_count": null,
   "id": "7eff4a80",
   "metadata": {},
   "outputs": [],
   "source": [
    "test_df = pd.read_csv('https://raw.githubusercontent.com/cohere-ai/notebooks/main/notebooks/data/movie_extraction_test_set_100.csv',index_col=0)\n",
    "test_df"
   ]
  },
  {
   "cell_type": "code",
   "execution_count": null,
   "id": "1a6d89d9",
   "metadata": {},
   "outputs": [],
   "source": []
  },
  {
   "cell_type": "markdown",
   "id": "1bb37190",
   "metadata": {},
   "source": [
    "Let's run the extractor on these post titles (calling the API in parallel for quicker results):"
   ]
  },
  {
   "cell_type": "code",
   "execution_count": null,
   "id": "d70b6031",
   "metadata": {},
   "outputs": [],
   "source": [
    "from concurrent.futures import ThreadPoolExecutor\n",
    "\n",
    "extracted = []\n",
    "# Run the model to extract the entities\n",
    "with ThreadPoolExecutor(max_workers=8) as executor:\n",
    "    for i in executor.map(cohereMovieExtractor.extract, test_df['text']):\n",
    "        extracted.append(str(i).strip())\n",
    "# Save results\n",
    "test_df['extracted_text'] = extracted"
   ]
  },
  {
   "cell_type": "code",
   "execution_count": null,
   "id": "320f604f",
   "metadata": {},
   "outputs": [],
   "source": []
  },
  {
   "cell_type": "code",
   "execution_count": null,
   "id": "3688bed7",
   "metadata": {},
   "outputs": [],
   "source": [
    "#Let's look at some results:\n",
    "\n",
    "test_df.head()"
   ]
  },
  {
   "cell_type": "markdown",
   "id": "8186b0cc",
   "metadata": {},
   "source": [
    "Let's calculate the accuracy by comparing to the labeled examples"
   ]
  },
  {
   "cell_type": "code",
   "execution_count": null,
   "id": "c42a98c6",
   "metadata": {},
   "outputs": [],
   "source": [
    "# Compare the label to the extracted text\n",
    "test_df['correct'] = (test_df['label'].str.lower() == test_df['extracted_text'].str.lower()).astype(int)\n",
    "\n",
    "# Print the accuracy\n",
    "print(f'Classification accuracy {test_df[\"correct\"].mean() *100}%')"
   ]
  },
  {
   "cell_type": "markdown",
   "id": "982f019e",
   "metadata": {},
   "source": [
    "So it seems this prompt works well on this small test set. It's not guaranteed it will do as well on other sets, however. The prompt can be improved by trying on more data, discovering edge cases, and adding more examples to the prompt.\n",
    "\n",
    "We can look at the examples it got wrong:"
   ]
  },
  {
   "cell_type": "code",
   "execution_count": null,
   "id": "592f75fb",
   "metadata": {},
   "outputs": [],
   "source": []
  },
  {
   "cell_type": "code",
   "execution_count": null,
   "id": "040f4a6f",
   "metadata": {},
   "outputs": [],
   "source": []
  },
  {
   "cell_type": "code",
   "execution_count": null,
   "id": "d8e9a0c3",
   "metadata": {},
   "outputs": [],
   "source": []
  }
 ],
 "metadata": {
  "kernelspec": {
   "display_name": "Python 3 (ipykernel)",
   "language": "python",
   "name": "python3"
  },
  "language_info": {
   "codemirror_mode": {
    "name": "ipython",
    "version": 3
   },
   "file_extension": ".py",
   "mimetype": "text/x-python",
   "name": "python",
   "nbconvert_exporter": "python",
   "pygments_lexer": "ipython3",
   "version": "3.9.7"
  }
 },
 "nbformat": 4,
 "nbformat_minor": 5
}
